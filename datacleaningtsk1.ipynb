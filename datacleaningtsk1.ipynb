{
 "cells": [
  {
   "cell_type": "code",
   "execution_count": 2,
   "id": "f07a7894-8a14-4b5c-acd0-c3942441f1ae",
   "metadata": {},
   "outputs": [],
   "source": [
    "# import libraries\n",
    "import numpy as np\n",
    "import pandas as pd\n",
    "import matplotlib.pyplot as plt\n",
    "import seaborn as sns"
   ]
  },
  {
   "cell_type": "code",
   "execution_count": 3,
   "id": "2ce11d58-1910-4f98-8a00-d55d4bd85d90",
   "metadata": {},
   "outputs": [
    {
     "name": "stdout",
     "output_type": "stream",
     "text": [
      "        Name      Age  Gender               Email     Join_Date   Salary   Department\n",
      "0      Alice      NaN     NaN   user0@example.com    2021-05-21      NaN        Admin\n",
      "1        Bob       40       M   user1@example.com           NaN    50000  Engineering\n",
      "2    Charlie  unknown    Male   user2@example.com    2020/01/01    50000           HR\n",
      "3      David      NaN     NaN   user3@example.com    2021-05-21    70000        Admin\n",
      "4        Eva       35   Other   user4@example.com  July 4, 2020    70000  Engineering\n",
      "5      Frank  unknown   Other   user5@example.com           NaN    70000        Admin\n",
      "6      Grace  unknown  Female   user6@example.com  July 4, 2020    80000  Engineering\n",
      "7     Hannah      NaN   Other   user7@example.com    2021-05-21      NaN           HR\n",
      "8        Ivy       30  Female   user8@example.com           NaN    50000  Engineering\n",
      "9       Jack       35    Male   user9@example.com    2020/01/01    80000  Engineering\n",
      "10     Alice      NaN       M  user10@example.com    2021-05-21    70000  Engineering\n",
      "11       Bob       35       M  user11@example.com  July 4, 2020    50000        Sales\n",
      "12   Charlie       35       M  user12@example.com    22-06-2022    80000        Sales\n",
      "13     David  unknown   Other  user13@example.com           NaN      NaN        Sales\n",
      "14       Eva       40    Male  user14@example.com  July 4, 2020    80000           HR\n",
      "15     Frank       35   Other  user15@example.com           NaN      NaN        Admin\n",
      "16     Grace      NaN   Other  user16@example.com    2021-05-21    70000          NaN\n",
      "17    Hannah  unknown    Male  user17@example.com           NaN      NaN  Engineering\n",
      "18       Ivy       30    Male  user18@example.com    2021-05-21    50000  Engineering\n",
      "19      Jack       40    Male  user19@example.com           NaN    70000           HR\n",
      "20     Alice      NaN    Male  user20@example.com    2021-05-21    50000  Engineering\n",
      "21       Bob      NaN       M  user21@example.com    22-06-2022  unknown        Sales\n",
      "22   Charlie       30       F  user22@example.com           NaN    60000          NaN\n",
      "23     David       40       F  user23@example.com           NaN      NaN    Marketing\n",
      "24       Eva  unknown    Male  user24@example.com           NaN    60000  Engineering\n",
      "25     Frank       25       F  user25@example.com    22-06-2022    60000        Sales\n",
      "26     Grace       40       F  user26@example.com  July 4, 2020      NaN    Marketing\n",
      "27    Hannah       30    Male  user27@example.com    2021-05-21    70000          NaN\n",
      "28       Ivy      NaN       F  user28@example.com    2020/01/01  unknown    Marketing\n",
      "29      Jack  unknown   Other  user29@example.com    2021-05-21    50000        Sales\n",
      "30     Alice       40  Female  user30@example.com    2021-05-21    80000        Admin\n",
      "31       Bob       25  Female  user31@example.com  July 4, 2020    50000        Admin\n",
      "32   Charlie       25    Male  user32@example.com    2021-05-21    80000    Marketing\n",
      "33     David       35       M  user33@example.com    22-06-2022    50000           HR\n",
      "34       Eva       35    Male  user34@example.com    22-06-2022      NaN    Marketing\n",
      "35     Frank      NaN       M  user35@example.com           NaN  unknown  Engineering\n",
      "36     Grace       30  Female  user36@example.com           NaN    80000  Engineering\n",
      "37    Hannah       40    Male  user37@example.com    2020/01/01      NaN        Admin\n",
      "38       Ivy       40     NaN  user38@example.com    2021-05-21    70000           HR\n",
      "39      Jack      NaN   Other  user39@example.com    2021-05-21    50000        Sales\n",
      "40     Alice      NaN       F  user40@example.com  July 4, 2020    50000  Engineering\n",
      "41       Bob      NaN       M  user41@example.com           NaN    80000        Admin\n",
      "42   Charlie      NaN     NaN  user42@example.com    22-06-2022    70000          NaN\n",
      "43     David      NaN       F  user43@example.com    2020/01/01    70000        Admin\n",
      "44       Eva       35       F  user44@example.com           NaN      NaN  Engineering\n",
      "45     Frank       40    Male  user45@example.com    22-06-2022      NaN  Engineering\n",
      "46     Grace      NaN       F  user46@example.com           NaN      NaN        Admin\n",
      "47    Hannah       40   Other  user47@example.com           NaN      NaN        Sales\n",
      "48       Ivy       25     NaN  user48@example.com  July 4, 2020      NaN    Marketing\n",
      "49      Jack       35       F  user49@example.com  July 4, 2020      NaN  Engineering\n",
      "50     Alice  unknown    Male  user50@example.com    2021-05-21      NaN        Admin\n",
      "51       Bob       35   Other  user51@example.com           NaN  unknown        Admin\n",
      "52   Charlie      NaN  Female  user52@example.com    2020/01/01    70000           HR\n",
      "53     David  unknown     NaN  user53@example.com           NaN      NaN    Marketing\n",
      "54       Eva       25       F  user54@example.com    22-06-2022    70000          NaN\n",
      "55     Frank      NaN    Male  user55@example.com           NaN    70000        Sales\n",
      "56     Grace       30  Female  user56@example.com           NaN    60000          NaN\n",
      "57    Hannah       40  Female  user57@example.com  July 4, 2020  unknown    Marketing\n",
      "58       Ivy       25       M  user58@example.com    2021-05-21      NaN    Marketing\n",
      "59      Jack       40   Other  user59@example.com    2021-05-21    50000    Marketing\n",
      "60     Alice      NaN       F  user60@example.com           NaN    80000          NaN\n",
      "61       Bob       30    Male  user61@example.com  July 4, 2020      NaN    Marketing\n",
      "62   Charlie       30       M  user62@example.com           NaN    50000        Admin\n",
      "63     David       25   Other  user63@example.com    2020/01/01  unknown          NaN\n",
      "64       Eva       30       M  user64@example.com  July 4, 2020    80000    Marketing\n",
      "65     Frank  unknown     NaN  user65@example.com           NaN  unknown        Admin\n",
      "66     Grace       30   Other  user66@example.com           NaN    70000           HR\n",
      "67    Hannah       40   Other  user67@example.com  July 4, 2020    80000    Marketing\n",
      "68       Ivy       40       F  user68@example.com           NaN    70000          NaN\n",
      "69      Jack      NaN   Other  user69@example.com  July 4, 2020    50000  Engineering\n",
      "70     Alice       40       M  user70@example.com    22-06-2022    50000    Marketing\n",
      "71       Bob      NaN   Other  user71@example.com  July 4, 2020    80000  Engineering\n",
      "72   Charlie       40       F  user72@example.com  July 4, 2020    80000        Admin\n",
      "73     David  unknown       F  user73@example.com           NaN      NaN           HR\n",
      "74       Eva      NaN     NaN  user74@example.com           NaN  unknown        Sales\n",
      "75     Frank       35       M  user75@example.com    2021-05-21      NaN           HR\n",
      "76     Grace      NaN  Female  user76@example.com    2021-05-21  unknown    Marketing\n",
      "77    Hannah       25  Female  user77@example.com    22-06-2022      NaN  Engineering\n",
      "78       Ivy       40   Other  user78@example.com    2021-05-21    70000  Engineering\n",
      "79      Jack       30     NaN  user79@example.com  July 4, 2020    80000          NaN\n",
      "80     Alice       40    Male  user80@example.com           NaN    50000  Engineering\n",
      "81       Bob       30   Other  user81@example.com    2021-05-21  unknown          NaN\n",
      "82   Charlie      NaN     NaN  user82@example.com    2021-05-21  unknown        Admin\n",
      "83     David      NaN       M  user83@example.com    22-06-2022    50000        Sales\n",
      "84       Eva      NaN       M  user84@example.com           NaN      NaN    Marketing\n",
      "85     Frank       30       M  user85@example.com    22-06-2022  unknown          NaN\n",
      "86     Grace       40       M  user86@example.com  July 4, 2020      NaN        Sales\n",
      "87    Hannah      NaN       M  user87@example.com           NaN    70000  Engineering\n",
      "88       Ivy  unknown     NaN  user88@example.com    22-06-2022    80000  Engineering\n",
      "89      Jack      NaN     NaN  user89@example.com    2021-05-21    50000        Sales\n",
      "90     Alice       30       F                 NaN           NaN    80000  Engineering\n",
      "91       Bob       30  Female                 NaN           NaN      NaN        Admin\n",
      "92   Charlie       40       M                 NaN    2021-05-21  unknown        Admin\n",
      "93     David       30    Male                 NaN    22-06-2022  unknown        Sales\n",
      "94       Eva       30     NaN                 NaN    2021-05-21      NaN          NaN\n",
      "95     Frank      NaN    Male                 NaN           NaN    50000          NaN\n",
      "96     Grace       40    Male                 NaN           NaN    70000        Sales\n",
      "97    Hannah      NaN    Male                 NaN    2020/01/01    60000          NaN\n",
      "98       Ivy      NaN       F                 NaN    2020/01/01    50000          NaN\n",
      "99      Jack      NaN     NaN                 NaN  July 4, 2020    60000        Admin\n",
      "100    Alice      NaN     NaN   user0@example.com    2021-05-21      NaN        Admin\n",
      "101      Bob       40       M   user1@example.com           NaN    50000  Engineering\n",
      "102  Charlie  unknown    Male   user2@example.com    2020/01/01    50000           HR\n",
      "103    David      NaN     NaN   user3@example.com    2021-05-21    70000        Admin\n",
      "104      Eva       35   Other   user4@example.com  July 4, 2020    70000  Engineering\n"
     ]
    }
   ],
   "source": [
    "#import data set\n",
    "ds=pd.read_csv(\"raw_messy_dataset.csv\")\n",
    "print(ds.to_string())"
   ]
  },
  {
   "cell_type": "code",
   "execution_count": 4,
   "id": "53cab06b-c269-41ed-8d72-f7c2741d370c",
   "metadata": {
    "scrolled": true
   },
   "outputs": [
    {
     "name": "stdout",
     "output_type": "stream",
     "text": [
      "<class 'pandas.core.frame.DataFrame'>\n",
      "RangeIndex: 105 entries, 0 to 104\n",
      "Data columns (total 7 columns):\n",
      " #   Column      Non-Null Count  Dtype \n",
      "---  ------      --------------  ----- \n",
      " 0   Name        105 non-null    object\n",
      " 1   Age         72 non-null     object\n",
      " 2   Gender      89 non-null     object\n",
      " 3   Email       95 non-null     object\n",
      " 4   Join_Date   70 non-null     object\n",
      " 5   Salary      78 non-null     object\n",
      " 6   Department  89 non-null     object\n",
      "dtypes: object(7)\n",
      "memory usage: 5.9+ KB\n"
     ]
    }
   ],
   "source": [
    "ds.info()"
   ]
  },
  {
   "cell_type": "code",
   "execution_count": 5,
   "id": "427261da-60ad-423d-82e2-6efbef0a6a41",
   "metadata": {},
   "outputs": [
    {
     "data": {
      "text/html": [
       "<div>\n",
       "<style scoped>\n",
       "    .dataframe tbody tr th:only-of-type {\n",
       "        vertical-align: middle;\n",
       "    }\n",
       "\n",
       "    .dataframe tbody tr th {\n",
       "        vertical-align: top;\n",
       "    }\n",
       "\n",
       "    .dataframe thead th {\n",
       "        text-align: right;\n",
       "    }\n",
       "</style>\n",
       "<table border=\"1\" class=\"dataframe\">\n",
       "  <thead>\n",
       "    <tr style=\"text-align: right;\">\n",
       "      <th></th>\n",
       "      <th>Name</th>\n",
       "      <th>Age</th>\n",
       "      <th>Gender</th>\n",
       "      <th>Email</th>\n",
       "      <th>Join_Date</th>\n",
       "      <th>Salary</th>\n",
       "      <th>Department</th>\n",
       "    </tr>\n",
       "  </thead>\n",
       "  <tbody>\n",
       "    <tr>\n",
       "      <th>count</th>\n",
       "      <td>105</td>\n",
       "      <td>72</td>\n",
       "      <td>89</td>\n",
       "      <td>95</td>\n",
       "      <td>70</td>\n",
       "      <td>78</td>\n",
       "      <td>89</td>\n",
       "    </tr>\n",
       "    <tr>\n",
       "      <th>unique</th>\n",
       "      <td>10</td>\n",
       "      <td>5</td>\n",
       "      <td>5</td>\n",
       "      <td>90</td>\n",
       "      <td>4</td>\n",
       "      <td>5</td>\n",
       "      <td>5</td>\n",
       "    </tr>\n",
       "    <tr>\n",
       "      <th>top</th>\n",
       "      <td>Alice</td>\n",
       "      <td>40</td>\n",
       "      <td>Male</td>\n",
       "      <td>user0@example.com</td>\n",
       "      <td>2021-05-21</td>\n",
       "      <td>50000</td>\n",
       "      <td>Engineering</td>\n",
       "    </tr>\n",
       "    <tr>\n",
       "      <th>freq</th>\n",
       "      <td>11</td>\n",
       "      <td>22</td>\n",
       "      <td>22</td>\n",
       "      <td>2</td>\n",
       "      <td>26</td>\n",
       "      <td>22</td>\n",
       "      <td>26</td>\n",
       "    </tr>\n",
       "  </tbody>\n",
       "</table>\n",
       "</div>"
      ],
      "text/plain": [
       "         Name Age Gender              Email   Join_Date Salary   Department\n",
       "count     105  72     89                 95          70     78           89\n",
       "unique     10   5      5                 90           4      5            5\n",
       "top     Alice  40   Male  user0@example.com  2021-05-21  50000  Engineering\n",
       "freq       11  22     22                  2          26     22           26"
      ]
     },
     "execution_count": 5,
     "metadata": {},
     "output_type": "execute_result"
    }
   ],
   "source": [
    "ds.describe()  "
   ]
  },
  {
   "cell_type": "code",
   "execution_count": 6,
   "id": "dfdd9c45-858a-4d9d-ba0a-42dead4157be",
   "metadata": {},
   "outputs": [
    {
     "data": {
      "text/plain": [
       "5"
      ]
     },
     "execution_count": 6,
     "metadata": {},
     "output_type": "execute_result"
    }
   ],
   "source": [
    "#searching for duplicates\n",
    "ds.duplicated().sum()"
   ]
  },
  {
   "cell_type": "code",
   "execution_count": 7,
   "id": "5f6610fd-4634-462c-aa5d-10a5efe5345f",
   "metadata": {},
   "outputs": [],
   "source": [
    "#removing dulicates\n",
    "ds.drop_duplicates(inplace=True)"
   ]
  },
  {
   "cell_type": "code",
   "execution_count": 8,
   "id": "be8338c4-a38e-48fc-8042-90a5d812f2b0",
   "metadata": {},
   "outputs": [
    {
     "data": {
      "text/plain": [
       "0"
      ]
     },
     "execution_count": 8,
     "metadata": {},
     "output_type": "execute_result"
    }
   ],
   "source": [
    "#searching for duplicates\n",
    "ds.duplicated().sum()"
   ]
  },
  {
   "cell_type": "code",
   "execution_count": 9,
   "id": "77002767-66e3-497b-8cad-a84696495d62",
   "metadata": {},
   "outputs": [],
   "source": [
    "#handling age\n",
    "ds[\"Age\"]=pd.to_numeric(ds[\"Age\"],errors='coerce') "
   ]
  },
  {
   "cell_type": "code",
   "execution_count": 10,
   "id": "d31cdc4c-c8fd-475e-a868-84eb2fff10bb",
   "metadata": {},
   "outputs": [
    {
     "data": {
      "text/plain": [
       "0     35.0\n",
       "1     40.0\n",
       "2     35.0\n",
       "3     35.0\n",
       "4     35.0\n",
       "      ... \n",
       "95    35.0\n",
       "96    40.0\n",
       "97    35.0\n",
       "98    35.0\n",
       "99    35.0\n",
       "Name: Age, Length: 100, dtype: float64"
      ]
     },
     "execution_count": 10,
     "metadata": {},
     "output_type": "execute_result"
    }
   ],
   "source": [
    "x=ds[\"Age\"].median()\n",
    "ds[\"Age\"].fillna(x)"
   ]
  },
  {
   "cell_type": "code",
   "execution_count": 11,
   "id": "b5b66bdd-3efe-4638-86fc-b313bbb158b8",
   "metadata": {},
   "outputs": [
    {
     "data": {
      "text/plain": [
       "array([nan, 'M', 'Male', 'Other', 'Female', 'F'], dtype=object)"
      ]
     },
     "execution_count": 11,
     "metadata": {},
     "output_type": "execute_result"
    }
   ],
   "source": [
    "#finding duplicates\n",
    "ds[\"Gender\"].unique()"
   ]
  },
  {
   "cell_type": "code",
   "execution_count": 12,
   "id": "b6c7ba87-5a4e-418b-9d4b-fcd0a174b41f",
   "metadata": {},
   "outputs": [],
   "source": [
    "ds[\"Gender\"]=ds[\"Gender\"].replace({\n",
    "    \"M\":\"Male\",\"F\":\"Female\",\"\":\"none\"\n",
    "})"
   ]
  },
  {
   "cell_type": "code",
   "execution_count": 13,
   "id": "227e3cdc-ef57-4509-9ebc-2c49f33c2f67",
   "metadata": {},
   "outputs": [
    {
     "name": "stdout",
     "output_type": "stream",
     "text": [
      "<class 'pandas.core.frame.DataFrame'>\n",
      "Index: 100 entries, 0 to 99\n",
      "Data columns (total 7 columns):\n",
      " #   Column      Non-Null Count  Dtype  \n",
      "---  ------      --------------  -----  \n",
      " 0   Name        100 non-null    object \n",
      " 1   Age         57 non-null     float64\n",
      " 2   Gender      86 non-null     object \n",
      " 3   Email       90 non-null     object \n",
      " 4   Join_Date   66 non-null     object \n",
      " 5   Salary      74 non-null     object \n",
      " 6   Department  84 non-null     object \n",
      "dtypes: float64(1), object(6)\n",
      "memory usage: 6.2+ KB\n"
     ]
    }
   ],
   "source": [
    "ds.info()"
   ]
  },
  {
   "cell_type": "code",
   "execution_count": 14,
   "id": "3506a56a-0dea-40cd-88a8-dc56f57b6c3d",
   "metadata": {},
   "outputs": [
    {
     "data": {
      "text/plain": [
       "array([nan, 'Male', 'Other', 'Female'], dtype=object)"
      ]
     },
     "execution_count": 14,
     "metadata": {},
     "output_type": "execute_result"
    }
   ],
   "source": [
    "ds[\"Gender\"].unique()"
   ]
  },
  {
   "cell_type": "code",
   "execution_count": 29,
   "id": "dffcbef5-9053-472b-acbf-548f31cb6c86",
   "metadata": {},
   "outputs": [
    {
     "name": "stderr",
     "output_type": "stream",
     "text": [
      "C:\\Users\\kirti\\AppData\\Local\\Temp\\ipykernel_11148\\4156150150.py:2: FutureWarning: A value is trying to be set on a copy of a DataFrame or Series through chained assignment using an inplace method.\n",
      "The behavior will change in pandas 3.0. This inplace method will never work because the intermediate object on which we are setting values always behaves as a copy.\n",
      "\n",
      "For example, when doing 'df[col].method(value, inplace=True)', try using 'df.method({col: value}, inplace=True)' or df[col] = df[col].method(value) instead, to perform the operation inplace on the original object.\n",
      "\n",
      "\n",
      "  ds[\"Email\"].fillna(\"-\",inplace=True)\n"
     ]
    }
   ],
   "source": [
    "#handling missing values in email column\n",
    "ds[\"Email\"].fillna(\"-\",inplace=True)"
   ]
  },
  {
   "cell_type": "code",
   "execution_count": 16,
   "id": "4b0be65b-10ee-4207-af06-53b4ef9a389a",
   "metadata": {},
   "outputs": [
    {
     "data": {
      "text/plain": [
       "Index(['Name', 'Age', 'Gender', 'Email', 'Join_Date', 'Salary', 'Department'], dtype='object')"
      ]
     },
     "execution_count": 16,
     "metadata": {},
     "output_type": "execute_result"
    }
   ],
   "source": [
    "ds.columns"
   ]
  },
  {
   "cell_type": "code",
   "execution_count": 17,
   "id": "43b11369-8681-4907-a1fc-86242acba15b",
   "metadata": {},
   "outputs": [
    {
     "name": "stdout",
     "output_type": "stream",
     "text": [
      "       Name   Age  Gender               Email     Join_Date   Salary   Department\n",
      "0     Alice   NaN     NaN   user0@example.com    2021-05-21      NaN        Admin\n",
      "1       Bob  40.0    Male   user1@example.com           NaN    50000  Engineering\n",
      "2   Charlie   NaN    Male   user2@example.com    2020/01/01    50000           HR\n",
      "3     David   NaN     NaN   user3@example.com    2021-05-21    70000        Admin\n",
      "4       Eva  35.0   Other   user4@example.com  July 4, 2020    70000  Engineering\n",
      "5     Frank   NaN   Other   user5@example.com           NaN    70000        Admin\n",
      "6     Grace   NaN  Female   user6@example.com  July 4, 2020    80000  Engineering\n",
      "7    Hannah   NaN   Other   user7@example.com    2021-05-21      NaN           HR\n",
      "8       Ivy  30.0  Female   user8@example.com           NaN    50000  Engineering\n",
      "9      Jack  35.0    Male   user9@example.com    2020/01/01    80000  Engineering\n",
      "10    Alice   NaN    Male  user10@example.com    2021-05-21    70000  Engineering\n",
      "11      Bob  35.0    Male  user11@example.com  July 4, 2020    50000        Sales\n",
      "12  Charlie  35.0    Male  user12@example.com    22-06-2022    80000        Sales\n",
      "13    David   NaN   Other  user13@example.com           NaN      NaN        Sales\n",
      "14      Eva  40.0    Male  user14@example.com  July 4, 2020    80000           HR\n",
      "15    Frank  35.0   Other  user15@example.com           NaN      NaN        Admin\n",
      "16    Grace   NaN   Other  user16@example.com    2021-05-21    70000          NaN\n",
      "17   Hannah   NaN    Male  user17@example.com           NaN      NaN  Engineering\n",
      "18      Ivy  30.0    Male  user18@example.com    2021-05-21    50000  Engineering\n",
      "19     Jack  40.0    Male  user19@example.com           NaN    70000           HR\n",
      "20    Alice   NaN    Male  user20@example.com    2021-05-21    50000  Engineering\n",
      "21      Bob   NaN    Male  user21@example.com    22-06-2022  unknown        Sales\n",
      "22  Charlie  30.0  Female  user22@example.com           NaN    60000          NaN\n",
      "23    David  40.0  Female  user23@example.com           NaN      NaN    Marketing\n",
      "24      Eva   NaN    Male  user24@example.com           NaN    60000  Engineering\n",
      "25    Frank  25.0  Female  user25@example.com    22-06-2022    60000        Sales\n",
      "26    Grace  40.0  Female  user26@example.com  July 4, 2020      NaN    Marketing\n",
      "27   Hannah  30.0    Male  user27@example.com    2021-05-21    70000          NaN\n",
      "28      Ivy   NaN  Female  user28@example.com    2020/01/01  unknown    Marketing\n",
      "29     Jack   NaN   Other  user29@example.com    2021-05-21    50000        Sales\n",
      "30    Alice  40.0  Female  user30@example.com    2021-05-21    80000        Admin\n",
      "31      Bob  25.0  Female  user31@example.com  July 4, 2020    50000        Admin\n",
      "32  Charlie  25.0    Male  user32@example.com    2021-05-21    80000    Marketing\n",
      "33    David  35.0    Male  user33@example.com    22-06-2022    50000           HR\n",
      "34      Eva  35.0    Male  user34@example.com    22-06-2022      NaN    Marketing\n",
      "35    Frank   NaN    Male  user35@example.com           NaN  unknown  Engineering\n",
      "36    Grace  30.0  Female  user36@example.com           NaN    80000  Engineering\n",
      "37   Hannah  40.0    Male  user37@example.com    2020/01/01      NaN        Admin\n",
      "38      Ivy  40.0     NaN  user38@example.com    2021-05-21    70000           HR\n",
      "39     Jack   NaN   Other  user39@example.com    2021-05-21    50000        Sales\n",
      "40    Alice   NaN  Female  user40@example.com  July 4, 2020    50000  Engineering\n",
      "41      Bob   NaN    Male  user41@example.com           NaN    80000        Admin\n",
      "42  Charlie   NaN     NaN  user42@example.com    22-06-2022    70000          NaN\n",
      "43    David   NaN  Female  user43@example.com    2020/01/01    70000        Admin\n",
      "44      Eva  35.0  Female  user44@example.com           NaN      NaN  Engineering\n",
      "45    Frank  40.0    Male  user45@example.com    22-06-2022      NaN  Engineering\n",
      "46    Grace   NaN  Female  user46@example.com           NaN      NaN        Admin\n",
      "47   Hannah  40.0   Other  user47@example.com           NaN      NaN        Sales\n",
      "48      Ivy  25.0     NaN  user48@example.com  July 4, 2020      NaN    Marketing\n",
      "49     Jack  35.0  Female  user49@example.com  July 4, 2020      NaN  Engineering\n",
      "50    Alice   NaN    Male  user50@example.com    2021-05-21      NaN        Admin\n",
      "51      Bob  35.0   Other  user51@example.com           NaN  unknown        Admin\n",
      "52  Charlie   NaN  Female  user52@example.com    2020/01/01    70000           HR\n",
      "53    David   NaN     NaN  user53@example.com           NaN      NaN    Marketing\n",
      "54      Eva  25.0  Female  user54@example.com    22-06-2022    70000          NaN\n",
      "55    Frank   NaN    Male  user55@example.com           NaN    70000        Sales\n",
      "56    Grace  30.0  Female  user56@example.com           NaN    60000          NaN\n",
      "57   Hannah  40.0  Female  user57@example.com  July 4, 2020  unknown    Marketing\n",
      "58      Ivy  25.0    Male  user58@example.com    2021-05-21      NaN    Marketing\n",
      "59     Jack  40.0   Other  user59@example.com    2021-05-21    50000    Marketing\n",
      "60    Alice   NaN  Female  user60@example.com           NaN    80000          NaN\n",
      "61      Bob  30.0    Male  user61@example.com  July 4, 2020      NaN    Marketing\n",
      "62  Charlie  30.0    Male  user62@example.com           NaN    50000        Admin\n",
      "63    David  25.0   Other  user63@example.com    2020/01/01  unknown          NaN\n",
      "64      Eva  30.0    Male  user64@example.com  July 4, 2020    80000    Marketing\n",
      "65    Frank   NaN     NaN  user65@example.com           NaN  unknown        Admin\n",
      "66    Grace  30.0   Other  user66@example.com           NaN    70000           HR\n",
      "67   Hannah  40.0   Other  user67@example.com  July 4, 2020    80000    Marketing\n",
      "68      Ivy  40.0  Female  user68@example.com           NaN    70000          NaN\n",
      "69     Jack   NaN   Other  user69@example.com  July 4, 2020    50000  Engineering\n",
      "70    Alice  40.0    Male  user70@example.com    22-06-2022    50000    Marketing\n",
      "71      Bob   NaN   Other  user71@example.com  July 4, 2020    80000  Engineering\n",
      "72  Charlie  40.0  Female  user72@example.com  July 4, 2020    80000        Admin\n",
      "73    David   NaN  Female  user73@example.com           NaN      NaN           HR\n",
      "74      Eva   NaN     NaN  user74@example.com           NaN  unknown        Sales\n",
      "75    Frank  35.0    Male  user75@example.com    2021-05-21      NaN           HR\n",
      "76    Grace   NaN  Female  user76@example.com    2021-05-21  unknown    Marketing\n",
      "77   Hannah  25.0  Female  user77@example.com    22-06-2022      NaN  Engineering\n",
      "78      Ivy  40.0   Other  user78@example.com    2021-05-21    70000  Engineering\n",
      "79     Jack  30.0     NaN  user79@example.com  July 4, 2020    80000          NaN\n",
      "80    Alice  40.0    Male  user80@example.com           NaN    50000  Engineering\n",
      "81      Bob  30.0   Other  user81@example.com    2021-05-21  unknown          NaN\n",
      "82  Charlie   NaN     NaN  user82@example.com    2021-05-21  unknown        Admin\n",
      "83    David   NaN    Male  user83@example.com    22-06-2022    50000        Sales\n",
      "84      Eva   NaN    Male  user84@example.com           NaN      NaN    Marketing\n",
      "85    Frank  30.0    Male  user85@example.com    22-06-2022  unknown          NaN\n",
      "86    Grace  40.0    Male  user86@example.com  July 4, 2020      NaN        Sales\n",
      "87   Hannah   NaN    Male  user87@example.com           NaN    70000  Engineering\n",
      "88      Ivy   NaN     NaN  user88@example.com    22-06-2022    80000  Engineering\n",
      "89     Jack   NaN     NaN  user89@example.com    2021-05-21    50000        Sales\n",
      "90    Alice  30.0  Female                   -           NaN    80000  Engineering\n",
      "91      Bob  30.0  Female                   -           NaN      NaN        Admin\n",
      "92  Charlie  40.0    Male                   -    2021-05-21  unknown        Admin\n",
      "93    David  30.0    Male                   -    22-06-2022  unknown        Sales\n",
      "94      Eva  30.0     NaN                   -    2021-05-21      NaN          NaN\n",
      "95    Frank   NaN    Male                   -           NaN    50000          NaN\n",
      "96    Grace  40.0    Male                   -           NaN    70000        Sales\n",
      "97   Hannah   NaN    Male                   -    2020/01/01    60000          NaN\n",
      "98      Ivy   NaN  Female                   -    2020/01/01    50000          NaN\n",
      "99     Jack   NaN     NaN                   -  July 4, 2020    60000        Admin\n"
     ]
    }
   ],
   "source": [
    "print(ds.to_string())"
   ]
  },
  {
   "cell_type": "code",
   "execution_count": 18,
   "id": "210ae25e-0060-462b-a4f6-392243237107",
   "metadata": {},
   "outputs": [],
   "source": [
    "#handling Date column\n",
    "\n",
    "ds[\"Join_Date\"]=pd.to_datetime(ds[\"Join_Date\"],errors='coerce')"
   ]
  },
  {
   "cell_type": "code",
   "execution_count": 19,
   "id": "71b2b158-0a88-4003-bf53-c204b1eccc1a",
   "metadata": {},
   "outputs": [
    {
     "name": "stdout",
     "output_type": "stream",
     "text": [
      "<class 'pandas.core.frame.DataFrame'>\n",
      "Index: 100 entries, 0 to 99\n",
      "Data columns (total 7 columns):\n",
      " #   Column      Non-Null Count  Dtype         \n",
      "---  ------      --------------  -----         \n",
      " 0   Name        100 non-null    object        \n",
      " 1   Age         57 non-null     float64       \n",
      " 2   Gender      86 non-null     object        \n",
      " 3   Email       100 non-null    object        \n",
      " 4   Join_Date   24 non-null     datetime64[ns]\n",
      " 5   Salary      74 non-null     object        \n",
      " 6   Department  84 non-null     object        \n",
      "dtypes: datetime64[ns](1), float64(1), object(5)\n",
      "memory usage: 6.2+ KB\n"
     ]
    }
   ],
   "source": [
    "ds.info()"
   ]
  },
  {
   "cell_type": "code",
   "execution_count": 20,
   "id": "48e6dc9e-f359-4c28-b683-9309a15119f4",
   "metadata": {},
   "outputs": [
    {
     "name": "stdout",
     "output_type": "stream",
     "text": [
      "       Name   Age  Gender               Email  Join_Date   Salary   Department\n",
      "0     Alice   NaN     NaN   user0@example.com 2021-05-21      NaN        Admin\n",
      "1       Bob  40.0    Male   user1@example.com        NaT    50000  Engineering\n",
      "2   Charlie   NaN    Male   user2@example.com        NaT    50000           HR\n",
      "3     David   NaN     NaN   user3@example.com 2021-05-21    70000        Admin\n",
      "4       Eva  35.0   Other   user4@example.com        NaT    70000  Engineering\n",
      "5     Frank   NaN   Other   user5@example.com        NaT    70000        Admin\n",
      "6     Grace   NaN  Female   user6@example.com        NaT    80000  Engineering\n",
      "7    Hannah   NaN   Other   user7@example.com 2021-05-21      NaN           HR\n",
      "8       Ivy  30.0  Female   user8@example.com        NaT    50000  Engineering\n",
      "9      Jack  35.0    Male   user9@example.com        NaT    80000  Engineering\n",
      "10    Alice   NaN    Male  user10@example.com 2021-05-21    70000  Engineering\n",
      "11      Bob  35.0    Male  user11@example.com        NaT    50000        Sales\n",
      "12  Charlie  35.0    Male  user12@example.com        NaT    80000        Sales\n",
      "13    David   NaN   Other  user13@example.com        NaT      NaN        Sales\n",
      "14      Eva  40.0    Male  user14@example.com        NaT    80000           HR\n",
      "15    Frank  35.0   Other  user15@example.com        NaT      NaN        Admin\n",
      "16    Grace   NaN   Other  user16@example.com 2021-05-21    70000          NaN\n",
      "17   Hannah   NaN    Male  user17@example.com        NaT      NaN  Engineering\n",
      "18      Ivy  30.0    Male  user18@example.com 2021-05-21    50000  Engineering\n",
      "19     Jack  40.0    Male  user19@example.com        NaT    70000           HR\n",
      "20    Alice   NaN    Male  user20@example.com 2021-05-21    50000  Engineering\n",
      "21      Bob   NaN    Male  user21@example.com        NaT  unknown        Sales\n",
      "22  Charlie  30.0  Female  user22@example.com        NaT    60000          NaN\n",
      "23    David  40.0  Female  user23@example.com        NaT      NaN    Marketing\n",
      "24      Eva   NaN    Male  user24@example.com        NaT    60000  Engineering\n",
      "25    Frank  25.0  Female  user25@example.com        NaT    60000        Sales\n",
      "26    Grace  40.0  Female  user26@example.com        NaT      NaN    Marketing\n",
      "27   Hannah  30.0    Male  user27@example.com 2021-05-21    70000          NaN\n",
      "28      Ivy   NaN  Female  user28@example.com        NaT  unknown    Marketing\n",
      "29     Jack   NaN   Other  user29@example.com 2021-05-21    50000        Sales\n",
      "30    Alice  40.0  Female  user30@example.com 2021-05-21    80000        Admin\n",
      "31      Bob  25.0  Female  user31@example.com        NaT    50000        Admin\n",
      "32  Charlie  25.0    Male  user32@example.com 2021-05-21    80000    Marketing\n",
      "33    David  35.0    Male  user33@example.com        NaT    50000           HR\n",
      "34      Eva  35.0    Male  user34@example.com        NaT      NaN    Marketing\n",
      "35    Frank   NaN    Male  user35@example.com        NaT  unknown  Engineering\n",
      "36    Grace  30.0  Female  user36@example.com        NaT    80000  Engineering\n",
      "37   Hannah  40.0    Male  user37@example.com        NaT      NaN        Admin\n",
      "38      Ivy  40.0     NaN  user38@example.com 2021-05-21    70000           HR\n",
      "39     Jack   NaN   Other  user39@example.com 2021-05-21    50000        Sales\n",
      "40    Alice   NaN  Female  user40@example.com        NaT    50000  Engineering\n",
      "41      Bob   NaN    Male  user41@example.com        NaT    80000        Admin\n",
      "42  Charlie   NaN     NaN  user42@example.com        NaT    70000          NaN\n",
      "43    David   NaN  Female  user43@example.com        NaT    70000        Admin\n",
      "44      Eva  35.0  Female  user44@example.com        NaT      NaN  Engineering\n",
      "45    Frank  40.0    Male  user45@example.com        NaT      NaN  Engineering\n",
      "46    Grace   NaN  Female  user46@example.com        NaT      NaN        Admin\n",
      "47   Hannah  40.0   Other  user47@example.com        NaT      NaN        Sales\n",
      "48      Ivy  25.0     NaN  user48@example.com        NaT      NaN    Marketing\n",
      "49     Jack  35.0  Female  user49@example.com        NaT      NaN  Engineering\n",
      "50    Alice   NaN    Male  user50@example.com 2021-05-21      NaN        Admin\n",
      "51      Bob  35.0   Other  user51@example.com        NaT  unknown        Admin\n",
      "52  Charlie   NaN  Female  user52@example.com        NaT    70000           HR\n",
      "53    David   NaN     NaN  user53@example.com        NaT      NaN    Marketing\n",
      "54      Eva  25.0  Female  user54@example.com        NaT    70000          NaN\n",
      "55    Frank   NaN    Male  user55@example.com        NaT    70000        Sales\n",
      "56    Grace  30.0  Female  user56@example.com        NaT    60000          NaN\n",
      "57   Hannah  40.0  Female  user57@example.com        NaT  unknown    Marketing\n",
      "58      Ivy  25.0    Male  user58@example.com 2021-05-21      NaN    Marketing\n",
      "59     Jack  40.0   Other  user59@example.com 2021-05-21    50000    Marketing\n",
      "60    Alice   NaN  Female  user60@example.com        NaT    80000          NaN\n",
      "61      Bob  30.0    Male  user61@example.com        NaT      NaN    Marketing\n",
      "62  Charlie  30.0    Male  user62@example.com        NaT    50000        Admin\n",
      "63    David  25.0   Other  user63@example.com        NaT  unknown          NaN\n",
      "64      Eva  30.0    Male  user64@example.com        NaT    80000    Marketing\n",
      "65    Frank   NaN     NaN  user65@example.com        NaT  unknown        Admin\n",
      "66    Grace  30.0   Other  user66@example.com        NaT    70000           HR\n",
      "67   Hannah  40.0   Other  user67@example.com        NaT    80000    Marketing\n",
      "68      Ivy  40.0  Female  user68@example.com        NaT    70000          NaN\n",
      "69     Jack   NaN   Other  user69@example.com        NaT    50000  Engineering\n",
      "70    Alice  40.0    Male  user70@example.com        NaT    50000    Marketing\n",
      "71      Bob   NaN   Other  user71@example.com        NaT    80000  Engineering\n",
      "72  Charlie  40.0  Female  user72@example.com        NaT    80000        Admin\n",
      "73    David   NaN  Female  user73@example.com        NaT      NaN           HR\n",
      "74      Eva   NaN     NaN  user74@example.com        NaT  unknown        Sales\n",
      "75    Frank  35.0    Male  user75@example.com 2021-05-21      NaN           HR\n",
      "76    Grace   NaN  Female  user76@example.com 2021-05-21  unknown    Marketing\n",
      "77   Hannah  25.0  Female  user77@example.com        NaT      NaN  Engineering\n",
      "78      Ivy  40.0   Other  user78@example.com 2021-05-21    70000  Engineering\n",
      "79     Jack  30.0     NaN  user79@example.com        NaT    80000          NaN\n",
      "80    Alice  40.0    Male  user80@example.com        NaT    50000  Engineering\n",
      "81      Bob  30.0   Other  user81@example.com 2021-05-21  unknown          NaN\n",
      "82  Charlie   NaN     NaN  user82@example.com 2021-05-21  unknown        Admin\n",
      "83    David   NaN    Male  user83@example.com        NaT    50000        Sales\n",
      "84      Eva   NaN    Male  user84@example.com        NaT      NaN    Marketing\n",
      "85    Frank  30.0    Male  user85@example.com        NaT  unknown          NaN\n",
      "86    Grace  40.0    Male  user86@example.com        NaT      NaN        Sales\n",
      "87   Hannah   NaN    Male  user87@example.com        NaT    70000  Engineering\n",
      "88      Ivy   NaN     NaN  user88@example.com        NaT    80000  Engineering\n",
      "89     Jack   NaN     NaN  user89@example.com 2021-05-21    50000        Sales\n",
      "90    Alice  30.0  Female                   -        NaT    80000  Engineering\n",
      "91      Bob  30.0  Female                   -        NaT      NaN        Admin\n",
      "92  Charlie  40.0    Male                   - 2021-05-21  unknown        Admin\n",
      "93    David  30.0    Male                   -        NaT  unknown        Sales\n",
      "94      Eva  30.0     NaN                   - 2021-05-21      NaN          NaN\n",
      "95    Frank   NaN    Male                   -        NaT    50000          NaN\n",
      "96    Grace  40.0    Male                   -        NaT    70000        Sales\n",
      "97   Hannah   NaN    Male                   -        NaT    60000          NaN\n",
      "98      Ivy   NaN  Female                   -        NaT    50000          NaN\n",
      "99     Jack   NaN     NaN                   -        NaT    60000        Admin\n"
     ]
    }
   ],
   "source": [
    "print(ds.to_string())"
   ]
  },
  {
   "cell_type": "code",
   "execution_count": 21,
   "id": "2c4566b2-e0c7-4806-8ae7-3f831e53214f",
   "metadata": {},
   "outputs": [],
   "source": [
    "ds[\"Salary\"]=pd.to_numeric(ds[\"Salary\"],errors='coerce')"
   ]
  },
  {
   "cell_type": "code",
   "execution_count": 22,
   "id": "aa455ae5-061a-46fa-a82d-b19ec0c8906c",
   "metadata": {},
   "outputs": [
    {
     "name": "stdout",
     "output_type": "stream",
     "text": [
      "       Name   Age  Gender               Email  Join_Date   Salary   Department\n",
      "0     Alice   NaN     NaN   user0@example.com 2021-05-21      NaN        Admin\n",
      "1       Bob  40.0    Male   user1@example.com        NaT  50000.0  Engineering\n",
      "2   Charlie   NaN    Male   user2@example.com        NaT  50000.0           HR\n",
      "3     David   NaN     NaN   user3@example.com 2021-05-21  70000.0        Admin\n",
      "4       Eva  35.0   Other   user4@example.com        NaT  70000.0  Engineering\n",
      "5     Frank   NaN   Other   user5@example.com        NaT  70000.0        Admin\n",
      "6     Grace   NaN  Female   user6@example.com        NaT  80000.0  Engineering\n",
      "7    Hannah   NaN   Other   user7@example.com 2021-05-21      NaN           HR\n",
      "8       Ivy  30.0  Female   user8@example.com        NaT  50000.0  Engineering\n",
      "9      Jack  35.0    Male   user9@example.com        NaT  80000.0  Engineering\n",
      "10    Alice   NaN    Male  user10@example.com 2021-05-21  70000.0  Engineering\n",
      "11      Bob  35.0    Male  user11@example.com        NaT  50000.0        Sales\n",
      "12  Charlie  35.0    Male  user12@example.com        NaT  80000.0        Sales\n",
      "13    David   NaN   Other  user13@example.com        NaT      NaN        Sales\n",
      "14      Eva  40.0    Male  user14@example.com        NaT  80000.0           HR\n",
      "15    Frank  35.0   Other  user15@example.com        NaT      NaN        Admin\n",
      "16    Grace   NaN   Other  user16@example.com 2021-05-21  70000.0          NaN\n",
      "17   Hannah   NaN    Male  user17@example.com        NaT      NaN  Engineering\n",
      "18      Ivy  30.0    Male  user18@example.com 2021-05-21  50000.0  Engineering\n",
      "19     Jack  40.0    Male  user19@example.com        NaT  70000.0           HR\n",
      "20    Alice   NaN    Male  user20@example.com 2021-05-21  50000.0  Engineering\n",
      "21      Bob   NaN    Male  user21@example.com        NaT      NaN        Sales\n",
      "22  Charlie  30.0  Female  user22@example.com        NaT  60000.0          NaN\n",
      "23    David  40.0  Female  user23@example.com        NaT      NaN    Marketing\n",
      "24      Eva   NaN    Male  user24@example.com        NaT  60000.0  Engineering\n",
      "25    Frank  25.0  Female  user25@example.com        NaT  60000.0        Sales\n",
      "26    Grace  40.0  Female  user26@example.com        NaT      NaN    Marketing\n",
      "27   Hannah  30.0    Male  user27@example.com 2021-05-21  70000.0          NaN\n",
      "28      Ivy   NaN  Female  user28@example.com        NaT      NaN    Marketing\n",
      "29     Jack   NaN   Other  user29@example.com 2021-05-21  50000.0        Sales\n",
      "30    Alice  40.0  Female  user30@example.com 2021-05-21  80000.0        Admin\n",
      "31      Bob  25.0  Female  user31@example.com        NaT  50000.0        Admin\n",
      "32  Charlie  25.0    Male  user32@example.com 2021-05-21  80000.0    Marketing\n",
      "33    David  35.0    Male  user33@example.com        NaT  50000.0           HR\n",
      "34      Eva  35.0    Male  user34@example.com        NaT      NaN    Marketing\n",
      "35    Frank   NaN    Male  user35@example.com        NaT      NaN  Engineering\n",
      "36    Grace  30.0  Female  user36@example.com        NaT  80000.0  Engineering\n",
      "37   Hannah  40.0    Male  user37@example.com        NaT      NaN        Admin\n",
      "38      Ivy  40.0     NaN  user38@example.com 2021-05-21  70000.0           HR\n",
      "39     Jack   NaN   Other  user39@example.com 2021-05-21  50000.0        Sales\n",
      "40    Alice   NaN  Female  user40@example.com        NaT  50000.0  Engineering\n",
      "41      Bob   NaN    Male  user41@example.com        NaT  80000.0        Admin\n",
      "42  Charlie   NaN     NaN  user42@example.com        NaT  70000.0          NaN\n",
      "43    David   NaN  Female  user43@example.com        NaT  70000.0        Admin\n",
      "44      Eva  35.0  Female  user44@example.com        NaT      NaN  Engineering\n",
      "45    Frank  40.0    Male  user45@example.com        NaT      NaN  Engineering\n",
      "46    Grace   NaN  Female  user46@example.com        NaT      NaN        Admin\n",
      "47   Hannah  40.0   Other  user47@example.com        NaT      NaN        Sales\n",
      "48      Ivy  25.0     NaN  user48@example.com        NaT      NaN    Marketing\n",
      "49     Jack  35.0  Female  user49@example.com        NaT      NaN  Engineering\n",
      "50    Alice   NaN    Male  user50@example.com 2021-05-21      NaN        Admin\n",
      "51      Bob  35.0   Other  user51@example.com        NaT      NaN        Admin\n",
      "52  Charlie   NaN  Female  user52@example.com        NaT  70000.0           HR\n",
      "53    David   NaN     NaN  user53@example.com        NaT      NaN    Marketing\n",
      "54      Eva  25.0  Female  user54@example.com        NaT  70000.0          NaN\n",
      "55    Frank   NaN    Male  user55@example.com        NaT  70000.0        Sales\n",
      "56    Grace  30.0  Female  user56@example.com        NaT  60000.0          NaN\n",
      "57   Hannah  40.0  Female  user57@example.com        NaT      NaN    Marketing\n",
      "58      Ivy  25.0    Male  user58@example.com 2021-05-21      NaN    Marketing\n",
      "59     Jack  40.0   Other  user59@example.com 2021-05-21  50000.0    Marketing\n",
      "60    Alice   NaN  Female  user60@example.com        NaT  80000.0          NaN\n",
      "61      Bob  30.0    Male  user61@example.com        NaT      NaN    Marketing\n",
      "62  Charlie  30.0    Male  user62@example.com        NaT  50000.0        Admin\n",
      "63    David  25.0   Other  user63@example.com        NaT      NaN          NaN\n",
      "64      Eva  30.0    Male  user64@example.com        NaT  80000.0    Marketing\n",
      "65    Frank   NaN     NaN  user65@example.com        NaT      NaN        Admin\n",
      "66    Grace  30.0   Other  user66@example.com        NaT  70000.0           HR\n",
      "67   Hannah  40.0   Other  user67@example.com        NaT  80000.0    Marketing\n",
      "68      Ivy  40.0  Female  user68@example.com        NaT  70000.0          NaN\n",
      "69     Jack   NaN   Other  user69@example.com        NaT  50000.0  Engineering\n",
      "70    Alice  40.0    Male  user70@example.com        NaT  50000.0    Marketing\n",
      "71      Bob   NaN   Other  user71@example.com        NaT  80000.0  Engineering\n",
      "72  Charlie  40.0  Female  user72@example.com        NaT  80000.0        Admin\n",
      "73    David   NaN  Female  user73@example.com        NaT      NaN           HR\n",
      "74      Eva   NaN     NaN  user74@example.com        NaT      NaN        Sales\n",
      "75    Frank  35.0    Male  user75@example.com 2021-05-21      NaN           HR\n",
      "76    Grace   NaN  Female  user76@example.com 2021-05-21      NaN    Marketing\n",
      "77   Hannah  25.0  Female  user77@example.com        NaT      NaN  Engineering\n",
      "78      Ivy  40.0   Other  user78@example.com 2021-05-21  70000.0  Engineering\n",
      "79     Jack  30.0     NaN  user79@example.com        NaT  80000.0          NaN\n",
      "80    Alice  40.0    Male  user80@example.com        NaT  50000.0  Engineering\n",
      "81      Bob  30.0   Other  user81@example.com 2021-05-21      NaN          NaN\n",
      "82  Charlie   NaN     NaN  user82@example.com 2021-05-21      NaN        Admin\n",
      "83    David   NaN    Male  user83@example.com        NaT  50000.0        Sales\n",
      "84      Eva   NaN    Male  user84@example.com        NaT      NaN    Marketing\n",
      "85    Frank  30.0    Male  user85@example.com        NaT      NaN          NaN\n",
      "86    Grace  40.0    Male  user86@example.com        NaT      NaN        Sales\n",
      "87   Hannah   NaN    Male  user87@example.com        NaT  70000.0  Engineering\n",
      "88      Ivy   NaN     NaN  user88@example.com        NaT  80000.0  Engineering\n",
      "89     Jack   NaN     NaN  user89@example.com 2021-05-21  50000.0        Sales\n",
      "90    Alice  30.0  Female                   -        NaT  80000.0  Engineering\n",
      "91      Bob  30.0  Female                   -        NaT      NaN        Admin\n",
      "92  Charlie  40.0    Male                   - 2021-05-21      NaN        Admin\n",
      "93    David  30.0    Male                   -        NaT      NaN        Sales\n",
      "94      Eva  30.0     NaN                   - 2021-05-21      NaN          NaN\n",
      "95    Frank   NaN    Male                   -        NaT  50000.0          NaN\n",
      "96    Grace  40.0    Male                   -        NaT  70000.0        Sales\n",
      "97   Hannah   NaN    Male                   -        NaT  60000.0          NaN\n",
      "98      Ivy   NaN  Female                   -        NaT  50000.0          NaN\n",
      "99     Jack   NaN     NaN                   -        NaT  60000.0        Admin\n"
     ]
    }
   ],
   "source": [
    "print(ds.to_string())"
   ]
  },
  {
   "cell_type": "code",
   "execution_count": 23,
   "id": "99f52e2c-a6cf-40c7-85cf-dbd8a0039c55",
   "metadata": {},
   "outputs": [
    {
     "data": {
      "text/plain": [
       "array(['Admin', 'Engineering', 'HR', 'Sales', nan, 'Marketing'],\n",
       "      dtype=object)"
      ]
     },
     "execution_count": 23,
     "metadata": {},
     "output_type": "execute_result"
    }
   ],
   "source": [
    "ds[\"Department\"].unique()"
   ]
  },
  {
   "cell_type": "code",
   "execution_count": 24,
   "id": "b22aaf0f-0581-4e9b-b1b6-ed63b7bdf5cf",
   "metadata": {},
   "outputs": [
    {
     "data": {
      "text/plain": [
       "'Engineering'"
      ]
     },
     "execution_count": 24,
     "metadata": {},
     "output_type": "execute_result"
    }
   ],
   "source": [
    "x=ds[\"Department\"].mode()[0]\n",
    "x"
   ]
  },
  {
   "cell_type": "code",
   "execution_count": 25,
   "id": "3cfde6b5-3150-4f94-8980-043a1ad972f7",
   "metadata": {},
   "outputs": [
    {
     "name": "stderr",
     "output_type": "stream",
     "text": [
      "C:\\Users\\kirti\\AppData\\Local\\Temp\\ipykernel_11148\\1770842687.py:1: FutureWarning: A value is trying to be set on a copy of a DataFrame or Series through chained assignment using an inplace method.\n",
      "The behavior will change in pandas 3.0. This inplace method will never work because the intermediate object on which we are setting values always behaves as a copy.\n",
      "\n",
      "For example, when doing 'df[col].method(value, inplace=True)', try using 'df.method({col: value}, inplace=True)' or df[col] = df[col].method(value) instead, to perform the operation inplace on the original object.\n",
      "\n",
      "\n",
      "  ds[\"Department\"].fillna(x,inplace=True)\n"
     ]
    }
   ],
   "source": [
    "ds[\"Department\"].fillna(x,inplace=True)"
   ]
  },
  {
   "cell_type": "code",
   "execution_count": 26,
   "id": "f5e4e4ce-7f27-405c-9fe6-3c319ac3e01e",
   "metadata": {},
   "outputs": [
    {
     "data": {
      "text/plain": [
       "array(['Admin', 'Engineering', 'HR', 'Sales', 'Marketing'], dtype=object)"
      ]
     },
     "execution_count": 26,
     "metadata": {},
     "output_type": "execute_result"
    }
   ],
   "source": [
    "ds[\"Department\"].unique()"
   ]
  },
  {
   "cell_type": "code",
   "execution_count": 27,
   "id": "39438e2b-0783-4bca-ae7c-cb8457af2d87",
   "metadata": {},
   "outputs": [],
   "source": [
    "ds.to_csv(\"cleaned_data\")"
   ]
  },
  {
   "cell_type": "code",
   "execution_count": 28,
   "id": "b20ede07-e69c-40c2-a518-7e6c79eb0ba3",
   "metadata": {},
   "outputs": [],
   "source": [
    "#make"
   ]
  }
 ],
 "metadata": {
  "kernelspec": {
   "display_name": "Python 3 (ipykernel)",
   "language": "python",
   "name": "python3"
  },
  "language_info": {
   "codemirror_mode": {
    "name": "ipython",
    "version": 3
   },
   "file_extension": ".py",
   "mimetype": "text/x-python",
   "name": "python",
   "nbconvert_exporter": "python",
   "pygments_lexer": "ipython3",
   "version": "3.12.7"
  }
 },
 "nbformat": 4,
 "nbformat_minor": 5
}
